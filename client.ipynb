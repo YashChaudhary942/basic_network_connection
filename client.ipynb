{
 "cells": [
  {
   "cell_type": "code",
   "execution_count": 1,
   "id": "794ee29d-8e97-4c1f-9668-705c411a3cf5",
   "metadata": {},
   "outputs": [
    {
     "name": "stdout",
     "output_type": "stream",
     "text": [
      "[CLIENT] Server says: Request: do you accept connection? (yes/no)\n"
     ]
    },
    {
     "name": "stdin",
     "output_type": "stream",
     "text": [
      " yes\n"
     ]
    },
    {
     "name": "stdout",
     "output_type": "stream",
     "text": [
      "[CLIENT] Connection established, ready for further work. Type bye to quit\n",
      "[SERVER] hello\n"
     ]
    },
    {
     "name": "stdin",
     "output_type": "stream",
     "text": [
      "[CLIENT] >  hi man!\n"
     ]
    },
    {
     "name": "stdout",
     "output_type": "stream",
     "text": [
      "[SERVER] how are you?\n"
     ]
    },
    {
     "name": "stdin",
     "output_type": "stream",
     "text": [
      "[CLIENT] >  time to go now\n"
     ]
    },
    {
     "name": "stdout",
     "output_type": "stream",
     "text": [
      "[SERVER] yeah\n"
     ]
    },
    {
     "name": "stdin",
     "output_type": "stream",
     "text": [
      "[CLIENT] >  okay bye\n"
     ]
    },
    {
     "name": "stdout",
     "output_type": "stream",
     "text": [
      "[SERVER] bye\n"
     ]
    },
    {
     "name": "stdin",
     "output_type": "stream",
     "text": [
      "[CLIENT] >  no\n"
     ]
    },
    {
     "ename": "ConnectionAbortedError",
     "evalue": "[WinError 10053] An established connection was aborted by the software in your host machine",
     "output_type": "error",
     "traceback": [
      "\u001b[31m---------------------------------------------------------------------------\u001b[39m",
      "\u001b[31mConnectionAbortedError\u001b[39m                    Traceback (most recent call last)",
      "\u001b[36mCell\u001b[39m\u001b[36m \u001b[39m\u001b[32mIn[1]\u001b[39m\u001b[32m, line 20\u001b[39m\n\u001b[32m     18\u001b[39m \u001b[38;5;28mprint\u001b[39m(\u001b[33m\"\u001b[39m\u001b[33m[CLIENT] Connection established, ready for further work. Type bye to quit\u001b[39m\u001b[33m\"\u001b[39m)\n\u001b[32m     19\u001b[39m \u001b[38;5;28;01mwhile\u001b[39;00m \u001b[38;5;28;01mTrue\u001b[39;00m:\n\u001b[32m---> \u001b[39m\u001b[32m20\u001b[39m     data = \u001b[43ms\u001b[49m\u001b[43m.\u001b[49m\u001b[43mrecv\u001b[49m\u001b[43m(\u001b[49m\u001b[32;43m1024\u001b[39;49m\u001b[43m)\u001b[49m.decode()\n\u001b[32m     21\u001b[39m     \u001b[38;5;28mprint\u001b[39m(\u001b[33mf\u001b[39m\u001b[33m\"\u001b[39m\u001b[33m[SERVER] \u001b[39m\u001b[38;5;132;01m{\u001b[39;00mdata\u001b[38;5;132;01m}\u001b[39;00m\u001b[33m\"\u001b[39m)\n\u001b[32m     22\u001b[39m     \u001b[38;5;28;01mif\u001b[39;00m data.lower == \u001b[33m\"\u001b[39m\u001b[33mbye\u001b[39m\u001b[33m\"\u001b[39m:\n",
      "\u001b[31mConnectionAbortedError\u001b[39m: [WinError 10053] An established connection was aborted by the software in your host machine"
     ]
    }
   ],
   "source": [
    "import socket\n",
    "\n",
    "HOST = '127.0.0.1'   # Must match server's host if you are running it on same computer. Otherwise, put your IP in it.\n",
    "PORT = 5000          #you have to keep it same as that of client\n",
    "\n",
    "with socket.socket(socket.AF_INET, socket.SOCK_STREAM) as s:\n",
    "    s.connect((HOST, PORT))\n",
    "\n",
    "    # Receive handshake request\n",
    "    msg = s.recv(1024).decode()\n",
    "    print(f\"[CLIENT] Server says: {msg}\")\n",
    "\n",
    "    # Decide\n",
    "    response = input()    #yes/no\n",
    "    s.sendall(response.encode())\n",
    "\n",
    "    if response.lower() == \"yes\":\n",
    "        print(\"[CLIENT] Connection established, ready for further work. Type bye to quit\")\n",
    "        while True:\n",
    "            data = s.recv(1024).decode()     #write a message\n",
    "            print(f\"[SERVER] {data}\")\n",
    "            if data.lower == \"bye\":\n",
    "                break\n",
    "            reply = input(\"[CLIENT] > \")\n",
    "            s.sendall(reply.encode())\n",
    "            if reply.lower == \"bye\":\n",
    "                break\n",
    "    else:\n",
    "        print(\"[CLIENT] Declined connection.\")\n"
   ]
  },
  {
   "cell_type": "code",
   "execution_count": null,
   "id": "86423518-f578-4861-aabc-7c3e6e43158a",
   "metadata": {},
   "outputs": [],
   "source": []
  }
 ],
 "metadata": {
  "kernelspec": {
   "display_name": "Python 3 (ipykernel)",
   "language": "python",
   "name": "python3"
  },
  "language_info": {
   "codemirror_mode": {
    "name": "ipython",
    "version": 3
   },
   "file_extension": ".py",
   "mimetype": "text/x-python",
   "name": "python",
   "nbconvert_exporter": "python",
   "pygments_lexer": "ipython3",
   "version": "3.13.5"
  }
 },
 "nbformat": 4,
 "nbformat_minor": 5
}
