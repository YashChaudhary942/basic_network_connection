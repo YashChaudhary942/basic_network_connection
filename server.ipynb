{
 "cells": [
  {
   "cell_type": "code",
   "execution_count": 1,
   "id": "c5bbc3a3-1a55-4f48-8fc5-b4cb46cc710a",
   "metadata": {},
   "outputs": [
    {
     "name": "stdout",
     "output_type": "stream",
     "text": [
      "[SERVER] Listening on 127.0.0.1:5000...\n",
      "[SERVER] Connection from ('127.0.0.1', 62670)\n",
      "[SERVER] Client replied: yes\n",
      "[SERVER] Network established! Type bye to quit.\n"
     ]
    },
    {
     "name": "stdin",
     "output_type": "stream",
     "text": [
      "[SERVER] >  hello\n"
     ]
    },
    {
     "name": "stdout",
     "output_type": "stream",
     "text": [
      "[CLIENT] hi man!\n"
     ]
    },
    {
     "name": "stdin",
     "output_type": "stream",
     "text": [
      "[SERVER] >  how are you?\n"
     ]
    },
    {
     "name": "stdout",
     "output_type": "stream",
     "text": [
      "[CLIENT] time to go now\n"
     ]
    },
    {
     "name": "stdin",
     "output_type": "stream",
     "text": [
      "[SERVER] >  yeah\n"
     ]
    },
    {
     "name": "stdout",
     "output_type": "stream",
     "text": [
      "[CLIENT] okay bye\n"
     ]
    },
    {
     "name": "stdin",
     "output_type": "stream",
     "text": [
      "[SERVER] >  bye\n"
     ]
    }
   ],
   "source": [
    "import socket\n",
    "HOST = '127.0.0.1'    #Local Host (you can change the host with your actual IP if you are running it on different computer)\n",
    "PORT = 5000           #Any free port >1024 (you have to keep it same as that of client)\n",
    "\n",
    "with socket.socket(socket.AF_INET, socket.SOCK_STREAM) as s:\n",
    "    s.bind((HOST, PORT))\n",
    "    s.listen(1)\n",
    "    print(f\"[SERVER] Listening on {HOST}:{PORT}...\")\n",
    "\n",
    "    conn, addr = s.accept()\n",
    "    with conn:\n",
    "        print(f\"[SERVER] Connection from {addr}\")\n",
    "\n",
    "        #Send handshake request:\n",
    "        conn.sendall(b\"Request: do you accept connection? (yes/no)\")\n",
    "\n",
    "        #wait for response\n",
    "        reply = conn.recv(1024).decode().strip()\n",
    "        print(f\"[SERVER] Client replied: {reply}\")\n",
    "\n",
    "        if reply.lower() == \"yes\":\n",
    "            print(\"[SERVER] Network established! Type bye to quit.\")\n",
    "\n",
    "            while True:\n",
    "                msg = input(\"[SERVER] > \") #write a message\n",
    "                conn.sendall(msg.encode())\n",
    "                if msg.lower() == \"bye\":\n",
    "                    break\n",
    "                data = conn.recv(1024).decode()\n",
    "                print(f\"[CLIENT] {data}\")\n",
    "                if data.lower() == \"bye\":\n",
    "                    break\n",
    "        else:\n",
    "            print(\"[SERVER] Client refused connections.\")\n",
    "\n",
    "        "
   ]
  },
  {
   "cell_type": "code",
   "execution_count": null,
   "id": "1c2a6e1c-4256-4037-bba6-d04ea77e73a9",
   "metadata": {},
   "outputs": [],
   "source": []
  },
  {
   "cell_type": "code",
   "execution_count": null,
   "id": "72f9a144-0897-4518-910e-0c2a8454bb92",
   "metadata": {},
   "outputs": [],
   "source": []
  }
 ],
 "metadata": {
  "kernelspec": {
   "display_name": "Python 3 (ipykernel)",
   "language": "python",
   "name": "python3"
  },
  "language_info": {
   "codemirror_mode": {
    "name": "ipython",
    "version": 3
   },
   "file_extension": ".py",
   "mimetype": "text/x-python",
   "name": "python",
   "nbconvert_exporter": "python",
   "pygments_lexer": "ipython3",
   "version": "3.13.5"
  }
 },
 "nbformat": 4,
 "nbformat_minor": 5
}
